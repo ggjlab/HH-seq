{
 "cells": [
  {
   "cell_type": "code",
   "execution_count": 11,
   "id": "45228e9b",
   "metadata": {},
   "outputs": [],
   "source": [
    "import numpy as np\n",
    "import pandas as pd\n",
    "import scanpy as sc\n",
    "import matplotlib.pyplot as plt\n",
    "import seaborn as sns\n",
    "from scipy import stats\n",
    "import harmonypy\n",
    "import pymn\n",
    "import scrublet as scr\n",
    "import gseapy as gp\n",
    "from gseapy.plot import barplot, dotplot\n",
    "import bottleneck\n",
    "import pyreadr\n",
    "from scipy.io import mmread\n",
    "import scipy\n",
    "from sklearn import preprocessing\n",
    "import random as rd\n",
    "import scib\n",
    "from matplotlib_venn import venn2,venn2_circles,venn3\n",
    "from pyscenic.export import export2loom, add_scenic_metadata\n",
    "from sklearn.decomposition import NMF\n",
    "from sklearn import metrics\n",
    "import palettable\n",
    "from pyscenic.rss import regulon_specificity_scores\n",
    "import matplotlib.image as mpimg\n",
    "import cosg as cosg"
   ]
  },
  {
   "cell_type": "code",
   "execution_count": 12,
   "id": "9144ba09",
   "metadata": {},
   "outputs": [
    {
     "name": "stderr",
     "output_type": "stream",
     "text": [
      "/public/home/guogjgroup/ggj/anaconda3/lib/python3.9/site-packages/scanpy/_settings.py:447: DeprecationWarning: `set_matplotlib_formats` is deprecated since IPython 7.23, directly use `matplotlib_inline.backend_inline.set_matplotlib_formats()`\n",
      "  IPython.display.set_matplotlib_formats(*ipython_format)\n"
     ]
    }
   ],
   "source": [
    "sc.set_figure_params(dpi = 200, color_map = 'viridis_r' )\n",
    "sc.settings.verbosity = 2"
   ]
  },
  {
   "cell_type": "code",
   "execution_count": null,
   "id": "fab06398",
   "metadata": {},
   "outputs": [],
   "source": []
  },
  {
   "cell_type": "code",
   "execution_count": 3,
   "id": "aa53672c",
   "metadata": {},
   "outputs": [],
   "source": [
    "#https://github.com/sqjin/CellChat"
   ]
  },
  {
   "cell_type": "code",
   "execution_count": null,
   "id": "b66b139a",
   "metadata": {},
   "outputs": [],
   "source": [
    "# https://github.com/sqjin/CellChat/issues/529\n",
    "# https://github.com/sqjin/CellChat/issues/550\n",
    "# https://github.com/sqjin/CellChat/issues/521"
   ]
  },
  {
   "cell_type": "code",
   "execution_count": null,
   "id": "cfd0c6a4",
   "metadata": {},
   "outputs": [],
   "source": [
    "# https://www.nature.com/articles/s41467-021-21246-9\n",
    "# Both CellChat and CellPhoneDB were relatively robust to subsampling, which is likely because both methods infer \n",
    "# cell–cell communication based on cell clusters. Such robustness in terms of subsampling is very useful when \n",
    "# analyzing the rapidly growing volume of scRNA-seq data"
   ]
  },
  {
   "cell_type": "code",
   "execution_count": 32,
   "id": "0b57b404",
   "metadata": {},
   "outputs": [],
   "source": [
    "def gene_name_in_gtf(query_list):\n",
    "    \n",
    "    import numpy as np\n",
    "    import pandas as pd\n",
    "    \n",
    "    gene_alias_latest=pd.read_csv('/public/home/guogjgroup/ggj/matq_analysis/scripts_share/jikai/hh_seq_annotation/gene_alias.csv', index_col=0)\n",
    "    gene_alias_latest=gene_alias_latest.fillna('0')\n",
    "    gene_alias_latest['alias']=gene_alias_latest.astype(str)\n",
    "    \n",
    "    query_result=pd.DataFrame(index=query_list, columns=['name_in_gtf'])\n",
    "    query_result['name_in_gtf']='Not_Found'\n",
    "\n",
    "    for i in query_list:\n",
    "\n",
    "        if [s for s in gene_alias_latest.index.tolist() if i == s]!=[]:\n",
    "            query_result.loc[i,'name_in_gtf']=i\n",
    "\n",
    "        elif [s for s in gene_alias_latest['alias'].tolist() if i in s]==[] and [s for s in gene_alias_latest.index.tolist() if i == s]==[]:\n",
    "            continue\n",
    "\n",
    "        elif [s for s in gene_alias_latest['alias'].tolist() if i in s]!=[] and [s for s in gene_alias_latest.index.tolist() if i == s]==[]:\n",
    "            query_gene_column=[s for s in gene_alias_latest['alias'].tolist() if i in s]\n",
    "            query_gene_subset=gene_alias_latest[gene_alias_latest['alias'].isin(query_gene_column)]\n",
    "            query_gene_subset=query_gene_subset['alias'].str.split('|', expand=True)\n",
    "            query_gene_subset=query_gene_subset.fillna('0')\n",
    "            if query_gene_subset.shape[0]==1 and [s for s in np.unique(query_gene_subset.values).tolist() if i == s]!=[]:\n",
    "                query_result.loc[i,'name_in_gtf']=''.join(query_gene_subset.index.tolist())\n",
    "            elif query_gene_subset.shape[0]>1 and [s for s in np.unique(query_gene_subset.values).tolist() if i == s]!=[]:\n",
    "                for each_row in query_gene_subset.index.tolist():\n",
    "                    if [s for s in query_gene_subset.loc[each_row,:].tolist() if i == s]==[]:\n",
    "                        query_gene_subset=query_gene_subset.drop(each_row)\n",
    "                if query_gene_subset.shape[0]==0:\n",
    "                    continue\n",
    "                elif query_gene_subset.shape[0]>1:\n",
    "                    query_result.loc[i,'name_in_gtf']='Ambiguous'\n",
    "                elif query_gene_subset.shape[0]==1:\n",
    "                    query_result.loc[i,'name_in_gtf']=''.join(query_gene_subset.index.tolist())\n",
    "    print(query_result)\n",
    "    query_result.to_csv('query_result.csv')"
   ]
  },
  {
   "cell_type": "code",
   "execution_count": null,
   "id": "cabef7cf",
   "metadata": {},
   "outputs": [],
   "source": []
  },
  {
   "cell_type": "code",
   "execution_count": null,
   "id": "56163ee8",
   "metadata": {},
   "outputs": [],
   "source": []
  },
  {
   "cell_type": "markdown",
   "id": "fdbb22f6",
   "metadata": {},
   "source": [
    "# Gene Name"
   ]
  },
  {
   "cell_type": "code",
   "execution_count": 88,
   "id": "1ece80ee",
   "metadata": {},
   "outputs": [],
   "source": [
    "cellchat_gene_name = np.unique(pd.read_csv(\"cell_chat_gene_name.csv\", index_col=0)['x']).tolist()"
   ]
  },
  {
   "cell_type": "code",
   "execution_count": 35,
   "id": "0eaa7963",
   "metadata": {},
   "outputs": [
    {
     "name": "stdout",
     "output_type": "stream",
     "text": [
      "         name_in_gtf\n",
      "A1BG            A1BG\n",
      "A1BG-AS1    A1BG-AS1\n",
      "A1CF            A1CF\n",
      "A2M              A2M\n",
      "A2M-AS1      A2M-AS1\n",
      "...              ...\n",
      "ZYG11B        ZYG11B\n",
      "ZYX              ZYX\n",
      "ZYXP1          ZYXP1\n",
      "ZZEF1          ZZEF1\n",
      "ZZZ3            ZZZ3\n",
      "\n",
      "[41787 rows x 1 columns]\n"
     ]
    }
   ],
   "source": [
    "gene_name_in_gtf(cellchat_gene_name)"
   ]
  },
  {
   "cell_type": "code",
   "execution_count": 89,
   "id": "722fbd4e",
   "metadata": {},
   "outputs": [
    {
     "data": {
      "text/plain": [
       "Y    34470\n",
       "N     7317\n",
       "Name: equal, dtype: int64"
      ]
     },
     "execution_count": 89,
     "metadata": {},
     "output_type": "execute_result"
    }
   ],
   "source": [
    "gene_name_check = pd.read_csv('query_result.csv', index_col=0)\n",
    "\n",
    "gene_name_check['equal'] = 'N'\n",
    "\n",
    "for i in gene_name_check.index.tolist():\n",
    "    \n",
    "    if i == gene_name_check.loc[i, 'name_in_gtf']:\n",
    "        \n",
    "        gene_name_check.loc[i, 'equal'] = 'Y'\n",
    "        \n",
    "gene_name_check['equal'].value_counts()"
   ]
  },
  {
   "cell_type": "code",
   "execution_count": 90,
   "id": "f87679aa",
   "metadata": {},
   "outputs": [
    {
     "data": {
      "text/html": [
       "<div>\n",
       "<style scoped>\n",
       "    .dataframe tbody tr th:only-of-type {\n",
       "        vertical-align: middle;\n",
       "    }\n",
       "\n",
       "    .dataframe tbody tr th {\n",
       "        vertical-align: top;\n",
       "    }\n",
       "\n",
       "    .dataframe thead th {\n",
       "        text-align: right;\n",
       "    }\n",
       "</style>\n",
       "<table border=\"1\" class=\"dataframe\">\n",
       "  <thead>\n",
       "    <tr style=\"text-align: right;\">\n",
       "      <th></th>\n",
       "      <th>name_in_gtf</th>\n",
       "      <th>equal</th>\n",
       "    </tr>\n",
       "  </thead>\n",
       "  <tbody>\n",
       "    <tr>\n",
       "      <th>AARS1</th>\n",
       "      <td>AARS</td>\n",
       "      <td>N</td>\n",
       "    </tr>\n",
       "    <tr>\n",
       "      <th>AARS1P1</th>\n",
       "      <td>AARSP1</td>\n",
       "      <td>N</td>\n",
       "    </tr>\n",
       "    <tr>\n",
       "      <th>AAVS1</th>\n",
       "      <td>PPP1R12C</td>\n",
       "      <td>N</td>\n",
       "    </tr>\n",
       "    <tr>\n",
       "      <th>ABCF2-H2BE1</th>\n",
       "      <td>ABCF2</td>\n",
       "      <td>N</td>\n",
       "    </tr>\n",
       "    <tr>\n",
       "      <th>ABITRAM</th>\n",
       "      <td>FAM206A</td>\n",
       "      <td>N</td>\n",
       "    </tr>\n",
       "    <tr>\n",
       "      <th>...</th>\n",
       "      <td>...</td>\n",
       "      <td>...</td>\n",
       "    </tr>\n",
       "    <tr>\n",
       "      <th>ZNRD2-AS1</th>\n",
       "      <td>SSSCA1-AS1</td>\n",
       "      <td>N</td>\n",
       "    </tr>\n",
       "    <tr>\n",
       "      <th>ZRSR2P1</th>\n",
       "      <td>ZRSR1</td>\n",
       "      <td>N</td>\n",
       "    </tr>\n",
       "    <tr>\n",
       "      <th>ZSCAN5DP</th>\n",
       "      <td>ZSCAN5D</td>\n",
       "      <td>N</td>\n",
       "    </tr>\n",
       "    <tr>\n",
       "      <th>ZSWIM9</th>\n",
       "      <td>C19orf68</td>\n",
       "      <td>N</td>\n",
       "    </tr>\n",
       "    <tr>\n",
       "      <th>ZUP1</th>\n",
       "      <td>ZUFSP</td>\n",
       "      <td>N</td>\n",
       "    </tr>\n",
       "  </tbody>\n",
       "</table>\n",
       "<p>1194 rows × 2 columns</p>\n",
       "</div>"
      ],
      "text/plain": [
       "            name_in_gtf equal\n",
       "AARS1              AARS     N\n",
       "AARS1P1          AARSP1     N\n",
       "AAVS1          PPP1R12C     N\n",
       "ABCF2-H2BE1       ABCF2     N\n",
       "ABITRAM         FAM206A     N\n",
       "...                 ...   ...\n",
       "ZNRD2-AS1    SSSCA1-AS1     N\n",
       "ZRSR2P1           ZRSR1     N\n",
       "ZSCAN5DP        ZSCAN5D     N\n",
       "ZSWIM9         C19orf68     N\n",
       "ZUP1              ZUFSP     N\n",
       "\n",
       "[1194 rows x 2 columns]"
      ]
     },
     "execution_count": 90,
     "metadata": {},
     "output_type": "execute_result"
    }
   ],
   "source": [
    "convert_stat = pd.DataFrame(gene_name_check[gene_name_check['equal'] == 'N']['name_in_gtf'].value_counts())\n",
    "\n",
    "gene_name_check = gene_name_check[gene_name_check['equal'] == 'N']\n",
    "gene_name_check = gene_name_check[gene_name_check['name_in_gtf'].isin(convert_stat[convert_stat['name_in_gtf'] < 2].index.tolist())]\n",
    "\n",
    "gene_name_check"
   ]
  },
  {
   "cell_type": "code",
   "execution_count": 91,
   "id": "6ebc4671",
   "metadata": {},
   "outputs": [
    {
     "data": {
      "text/plain": [
       "1194"
      ]
     },
     "execution_count": 91,
     "metadata": {},
     "output_type": "execute_result"
    }
   ],
   "source": [
    "len(np.unique(gene_name_check['name_in_gtf']).tolist())"
   ]
  },
  {
   "cell_type": "code",
   "execution_count": 92,
   "id": "455e29ad",
   "metadata": {},
   "outputs": [
    {
     "data": {
      "text/plain": [
       "1194"
      ]
     },
     "execution_count": 92,
     "metadata": {},
     "output_type": "execute_result"
    }
   ],
   "source": [
    "len(np.unique(gene_name_check.index).tolist())"
   ]
  },
  {
   "cell_type": "code",
   "execution_count": 93,
   "id": "52ec21db",
   "metadata": {},
   "outputs": [
    {
     "data": {
      "text/plain": [
       "1194"
      ]
     },
     "execution_count": 93,
     "metadata": {},
     "output_type": "execute_result"
    }
   ],
   "source": [
    "len(gene_name_check)"
   ]
  },
  {
   "cell_type": "code",
   "execution_count": 94,
   "id": "736f6b66",
   "metadata": {
    "scrolled": true
   },
   "outputs": [
    {
     "data": {
      "text/plain": [
       "74"
      ]
     },
     "execution_count": 94,
     "metadata": {},
     "output_type": "execute_result"
    }
   ],
   "source": [
    "len(list(set(np.unique(gene_name_check['name_in_gtf']).tolist()).intersection(set(cellchat_gene_name))))"
   ]
  },
  {
   "cell_type": "code",
   "execution_count": 95,
   "id": "ef7284a7",
   "metadata": {},
   "outputs": [
    {
     "data": {
      "text/plain": [
       "1120"
      ]
     },
     "execution_count": 95,
     "metadata": {},
     "output_type": "execute_result"
    }
   ],
   "source": [
    "len(list(set(np.unique(gene_name_check['name_in_gtf']).tolist()).difference(set(cellchat_gene_name))))"
   ]
  },
  {
   "cell_type": "code",
   "execution_count": 96,
   "id": "ca0df999",
   "metadata": {},
   "outputs": [
    {
     "data": {
      "text/plain": [
       "0"
      ]
     },
     "execution_count": 96,
     "metadata": {},
     "output_type": "execute_result"
    }
   ],
   "source": [
    "gene_name_check = gene_name_check[gene_name_check['name_in_gtf'].isin(list(set(np.unique(gene_name_check['name_in_gtf']).tolist()).difference(set(cellchat_gene_name))))]\n",
    "len(list(set(np.unique(gene_name_check['name_in_gtf']).tolist()).intersection(set(cellchat_gene_name))))"
   ]
  },
  {
   "cell_type": "code",
   "execution_count": 97,
   "id": "4a196db5",
   "metadata": {},
   "outputs": [],
   "source": [
    "gene_name_check.to_csv('cellchat_gene_name_replaced.csv')"
   ]
  },
  {
   "cell_type": "code",
   "execution_count": null,
   "id": "1ec1984c",
   "metadata": {},
   "outputs": [],
   "source": []
  },
  {
   "cell_type": "code",
   "execution_count": null,
   "id": "cb87e784",
   "metadata": {},
   "outputs": [],
   "source": []
  },
  {
   "cell_type": "code",
   "execution_count": null,
   "id": "bff76712",
   "metadata": {},
   "outputs": [],
   "source": []
  },
  {
   "cell_type": "code",
   "execution_count": null,
   "id": "10b388f0",
   "metadata": {},
   "outputs": [],
   "source": []
  },
  {
   "cell_type": "markdown",
   "id": "a6c8716c",
   "metadata": {},
   "source": [
    "# DGE"
   ]
  },
  {
   "cell_type": "code",
   "execution_count": 3,
   "id": "3e133d59",
   "metadata": {},
   "outputs": [
    {
     "name": "stderr",
     "output_type": "stream",
     "text": [
      "/tmp/ipykernel_23703/10841693.py:8: ImplicitModificationWarning: Trying to modify attribute `.obs` of view, initializing view as actual.\n",
      "  adata.obs['leiden'] = adata.obs['Type'].astype(str)\n"
     ]
    }
   ],
   "source": [
    "adata = sc.read('/public/home/guogjgroup/ggj/matq_analysis/pan_cancer/all_cell/adata_all_cell_raw_with_anno_latest.h5ad')\n",
    "all_patient = np.unique(adata.obs['study_id']).tolist()\n",
    "\n",
    "cancer_adata = sc.read('/public/home/guogjgroup/ggj/matq_analysis/pan_cancer/cancer_module/cnv_high_epi_harmony/cnv_high_epi_harmony_anno_latest.h5ad')\n",
    "\n",
    "adata = sc.read('/public/home/guogjgroup/ggj/matq_analysis/pan_cancer/all_cell/adata_all_cell_raw_with_anno_latest.h5ad')\n",
    "adata = adata[adata.obs['lineage'] == 'Epithelium']\n",
    "adata.obs['leiden'] = adata.obs['Type'].astype(str)\n",
    "epi_adata = adata.copy()\n",
    "\n",
    "mono_adata = sc.read('/public/home/guogjgroup/ggj/matq_analysis/pan_cancer/myeloid_cell/adata_all_monocyte_sct_annotation_latest.h5ad')\n",
    "\n",
    "stroma_adata = sc.read('/public/home/guogjgroup/ggj/matq_analysis/pan_cancer/stromal_cell/adata_all_stromal_cell_sct_annotation_latest.h5ad')\n",
    "\n",
    "endo_adata = sc.read('/public/home/guogjgroup/ggj/matq_analysis/pan_cancer/endothelial_cell/adata_all_endo_cell_sct_annotation_latest.h5ad')\n",
    "\n",
    "del adata"
   ]
  },
  {
   "cell_type": "code",
   "execution_count": 4,
   "id": "05efb8e7",
   "metadata": {
    "scrolled": true
   },
   "outputs": [
    {
     "name": "stderr",
     "output_type": "stream",
     "text": [
      "/tmp/ipykernel_23703/1293981718.py:42: ImplicitModificationWarning: Trying to modify attribute `.obs` of view, initializing view as actual.\n",
      "  adata.obs['leiden'] = adata.obs['leiden'].astype(str)\n",
      "/tmp/ipykernel_23703/1293981718.py:42: ImplicitModificationWarning: Trying to modify attribute `.obs` of view, initializing view as actual.\n",
      "  adata.obs['leiden'] = adata.obs['leiden'].astype(str)\n",
      "/tmp/ipykernel_23703/1293981718.py:42: ImplicitModificationWarning: Trying to modify attribute `.obs` of view, initializing view as actual.\n",
      "  adata.obs['leiden'] = adata.obs['leiden'].astype(str)\n",
      "/tmp/ipykernel_23703/1293981718.py:42: ImplicitModificationWarning: Trying to modify attribute `.obs` of view, initializing view as actual.\n",
      "  adata.obs['leiden'] = adata.obs['leiden'].astype(str)\n",
      "/tmp/ipykernel_23703/1293981718.py:59: ImplicitModificationWarning: Trying to modify attribute `.obs` of view, initializing view as actual.\n",
      "  adata.obs['ccc_anno'] = each_cca_anno['ccc_anno']\n",
      "/tmp/ipykernel_23703/1293981718.py:42: ImplicitModificationWarning: Trying to modify attribute `.obs` of view, initializing view as actual.\n",
      "  adata.obs['leiden'] = adata.obs['leiden'].astype(str)\n",
      "/tmp/ipykernel_23703/1293981718.py:42: ImplicitModificationWarning: Trying to modify attribute `.obs` of view, initializing view as actual.\n",
      "  adata.obs['leiden'] = adata.obs['leiden'].astype(str)\n",
      "/tmp/ipykernel_23703/1293981718.py:42: ImplicitModificationWarning: Trying to modify attribute `.obs` of view, initializing view as actual.\n",
      "  adata.obs['leiden'] = adata.obs['leiden'].astype(str)\n",
      "/tmp/ipykernel_23703/1293981718.py:42: ImplicitModificationWarning: Trying to modify attribute `.obs` of view, initializing view as actual.\n",
      "  adata.obs['leiden'] = adata.obs['leiden'].astype(str)\n",
      "/tmp/ipykernel_23703/1293981718.py:42: ImplicitModificationWarning: Trying to modify attribute `.obs` of view, initializing view as actual.\n",
      "  adata.obs['leiden'] = adata.obs['leiden'].astype(str)\n",
      "/tmp/ipykernel_23703/1293981718.py:59: ImplicitModificationWarning: Trying to modify attribute `.obs` of view, initializing view as actual.\n",
      "  adata.obs['ccc_anno'] = each_cca_anno['ccc_anno']\n",
      "/tmp/ipykernel_23703/1293981718.py:42: ImplicitModificationWarning: Trying to modify attribute `.obs` of view, initializing view as actual.\n",
      "  adata.obs['leiden'] = adata.obs['leiden'].astype(str)\n",
      "/tmp/ipykernel_23703/1293981718.py:42: ImplicitModificationWarning: Trying to modify attribute `.obs` of view, initializing view as actual.\n",
      "  adata.obs['leiden'] = adata.obs['leiden'].astype(str)\n",
      "/tmp/ipykernel_23703/1293981718.py:42: ImplicitModificationWarning: Trying to modify attribute `.obs` of view, initializing view as actual.\n",
      "  adata.obs['leiden'] = adata.obs['leiden'].astype(str)\n",
      "/tmp/ipykernel_23703/1293981718.py:42: ImplicitModificationWarning: Trying to modify attribute `.obs` of view, initializing view as actual.\n",
      "  adata.obs['leiden'] = adata.obs['leiden'].astype(str)\n",
      "/tmp/ipykernel_23703/1293981718.py:42: ImplicitModificationWarning: Trying to modify attribute `.obs` of view, initializing view as actual.\n",
      "  adata.obs['leiden'] = adata.obs['leiden'].astype(str)\n",
      "/tmp/ipykernel_23703/1293981718.py:59: ImplicitModificationWarning: Trying to modify attribute `.obs` of view, initializing view as actual.\n",
      "  adata.obs['ccc_anno'] = each_cca_anno['ccc_anno']\n",
      "/tmp/ipykernel_23703/1293981718.py:42: ImplicitModificationWarning: Trying to modify attribute `.obs` of view, initializing view as actual.\n",
      "  adata.obs['leiden'] = adata.obs['leiden'].astype(str)\n",
      "/tmp/ipykernel_23703/1293981718.py:42: ImplicitModificationWarning: Trying to modify attribute `.obs` of view, initializing view as actual.\n",
      "  adata.obs['leiden'] = adata.obs['leiden'].astype(str)\n",
      "/tmp/ipykernel_23703/1293981718.py:42: ImplicitModificationWarning: Trying to modify attribute `.obs` of view, initializing view as actual.\n",
      "  adata.obs['leiden'] = adata.obs['leiden'].astype(str)\n",
      "/tmp/ipykernel_23703/1293981718.py:42: ImplicitModificationWarning: Trying to modify attribute `.obs` of view, initializing view as actual.\n",
      "  adata.obs['leiden'] = adata.obs['leiden'].astype(str)\n",
      "/tmp/ipykernel_23703/1293981718.py:42: ImplicitModificationWarning: Trying to modify attribute `.obs` of view, initializing view as actual.\n",
      "  adata.obs['leiden'] = adata.obs['leiden'].astype(str)\n",
      "/tmp/ipykernel_23703/1293981718.py:59: ImplicitModificationWarning: Trying to modify attribute `.obs` of view, initializing view as actual.\n",
      "  adata.obs['ccc_anno'] = each_cca_anno['ccc_anno']\n",
      "/tmp/ipykernel_23703/1293981718.py:42: ImplicitModificationWarning: Trying to modify attribute `.obs` of view, initializing view as actual.\n",
      "  adata.obs['leiden'] = adata.obs['leiden'].astype(str)\n",
      "/tmp/ipykernel_23703/1293981718.py:42: ImplicitModificationWarning: Trying to modify attribute `.obs` of view, initializing view as actual.\n",
      "  adata.obs['leiden'] = adata.obs['leiden'].astype(str)\n",
      "/tmp/ipykernel_23703/1293981718.py:42: ImplicitModificationWarning: Trying to modify attribute `.obs` of view, initializing view as actual.\n",
      "  adata.obs['leiden'] = adata.obs['leiden'].astype(str)\n",
      "/tmp/ipykernel_23703/1293981718.py:42: ImplicitModificationWarning: Trying to modify attribute `.obs` of view, initializing view as actual.\n",
      "  adata.obs['leiden'] = adata.obs['leiden'].astype(str)\n",
      "/tmp/ipykernel_23703/1293981718.py:42: ImplicitModificationWarning: Trying to modify attribute `.obs` of view, initializing view as actual.\n",
      "  adata.obs['leiden'] = adata.obs['leiden'].astype(str)\n",
      "/tmp/ipykernel_23703/1293981718.py:59: ImplicitModificationWarning: Trying to modify attribute `.obs` of view, initializing view as actual.\n",
      "  adata.obs['ccc_anno'] = each_cca_anno['ccc_anno']\n",
      "/tmp/ipykernel_23703/1293981718.py:42: ImplicitModificationWarning: Trying to modify attribute `.obs` of view, initializing view as actual.\n",
      "  adata.obs['leiden'] = adata.obs['leiden'].astype(str)\n",
      "/tmp/ipykernel_23703/1293981718.py:42: ImplicitModificationWarning: Trying to modify attribute `.obs` of view, initializing view as actual.\n",
      "  adata.obs['leiden'] = adata.obs['leiden'].astype(str)\n",
      "/tmp/ipykernel_23703/1293981718.py:42: ImplicitModificationWarning: Trying to modify attribute `.obs` of view, initializing view as actual.\n",
      "  adata.obs['leiden'] = adata.obs['leiden'].astype(str)\n",
      "/tmp/ipykernel_23703/1293981718.py:42: ImplicitModificationWarning: Trying to modify attribute `.obs` of view, initializing view as actual.\n",
      "  adata.obs['leiden'] = adata.obs['leiden'].astype(str)\n",
      "/tmp/ipykernel_23703/1293981718.py:42: ImplicitModificationWarning: Trying to modify attribute `.obs` of view, initializing view as actual.\n",
      "  adata.obs['leiden'] = adata.obs['leiden'].astype(str)\n",
      "/tmp/ipykernel_23703/1293981718.py:59: ImplicitModificationWarning: Trying to modify attribute `.obs` of view, initializing view as actual.\n",
      "  adata.obs['ccc_anno'] = each_cca_anno['ccc_anno']\n",
      "/tmp/ipykernel_23703/1293981718.py:42: ImplicitModificationWarning: Trying to modify attribute `.obs` of view, initializing view as actual.\n",
      "  adata.obs['leiden'] = adata.obs['leiden'].astype(str)\n",
      "/tmp/ipykernel_23703/1293981718.py:42: ImplicitModificationWarning: Trying to modify attribute `.obs` of view, initializing view as actual.\n",
      "  adata.obs['leiden'] = adata.obs['leiden'].astype(str)\n",
      "/tmp/ipykernel_23703/1293981718.py:42: ImplicitModificationWarning: Trying to modify attribute `.obs` of view, initializing view as actual.\n",
      "  adata.obs['leiden'] = adata.obs['leiden'].astype(str)\n",
      "/tmp/ipykernel_23703/1293981718.py:42: ImplicitModificationWarning: Trying to modify attribute `.obs` of view, initializing view as actual.\n",
      "  adata.obs['leiden'] = adata.obs['leiden'].astype(str)\n",
      "/tmp/ipykernel_23703/1293981718.py:59: ImplicitModificationWarning: Trying to modify attribute `.obs` of view, initializing view as actual.\n",
      "  adata.obs['ccc_anno'] = each_cca_anno['ccc_anno']\n",
      "/tmp/ipykernel_23703/1293981718.py:42: ImplicitModificationWarning: Trying to modify attribute `.obs` of view, initializing view as actual.\n",
      "  adata.obs['leiden'] = adata.obs['leiden'].astype(str)\n",
      "/tmp/ipykernel_23703/1293981718.py:42: ImplicitModificationWarning: Trying to modify attribute `.obs` of view, initializing view as actual.\n",
      "  adata.obs['leiden'] = adata.obs['leiden'].astype(str)\n"
     ]
    },
    {
     "name": "stderr",
     "output_type": "stream",
     "text": [
      "/tmp/ipykernel_23703/1293981718.py:42: ImplicitModificationWarning: Trying to modify attribute `.obs` of view, initializing view as actual.\n",
      "  adata.obs['leiden'] = adata.obs['leiden'].astype(str)\n",
      "/tmp/ipykernel_23703/1293981718.py:59: ImplicitModificationWarning: Trying to modify attribute `.obs` of view, initializing view as actual.\n",
      "  adata.obs['ccc_anno'] = each_cca_anno['ccc_anno']\n",
      "/tmp/ipykernel_23703/1293981718.py:42: ImplicitModificationWarning: Trying to modify attribute `.obs` of view, initializing view as actual.\n",
      "  adata.obs['leiden'] = adata.obs['leiden'].astype(str)\n",
      "/tmp/ipykernel_23703/1293981718.py:42: ImplicitModificationWarning: Trying to modify attribute `.obs` of view, initializing view as actual.\n",
      "  adata.obs['leiden'] = adata.obs['leiden'].astype(str)\n",
      "/tmp/ipykernel_23703/1293981718.py:42: ImplicitModificationWarning: Trying to modify attribute `.obs` of view, initializing view as actual.\n",
      "  adata.obs['leiden'] = adata.obs['leiden'].astype(str)\n",
      "/tmp/ipykernel_23703/1293981718.py:42: ImplicitModificationWarning: Trying to modify attribute `.obs` of view, initializing view as actual.\n",
      "  adata.obs['leiden'] = adata.obs['leiden'].astype(str)\n",
      "/tmp/ipykernel_23703/1293981718.py:42: ImplicitModificationWarning: Trying to modify attribute `.obs` of view, initializing view as actual.\n",
      "  adata.obs['leiden'] = adata.obs['leiden'].astype(str)\n",
      "/tmp/ipykernel_23703/1293981718.py:59: ImplicitModificationWarning: Trying to modify attribute `.obs` of view, initializing view as actual.\n",
      "  adata.obs['ccc_anno'] = each_cca_anno['ccc_anno']\n"
     ]
    }
   ],
   "source": [
    "min_cell = 10\n",
    "\n",
    "for each_patient in all_patient:\n",
    "    \n",
    "    each_cca_anno = pd.DataFrame()\n",
    "    \n",
    "    for each_lineage in ['Cancer', 'Epi', 'Mono', 'Stroma', 'Endo']:\n",
    "        \n",
    "        if each_lineage == 'Cancer':\n",
    "            \n",
    "            adata = cancer_adata.copy()\n",
    "        \n",
    "        elif each_lineage == 'Epi':\n",
    "            \n",
    "            adata = epi_adata.copy()\n",
    "        \n",
    "        elif each_lineage == 'Mono':\n",
    "            \n",
    "            adata = mono_adata.copy()\n",
    "            \n",
    "        elif each_lineage == 'Stroma':\n",
    "            \n",
    "            adata = stroma_adata.copy()\n",
    "\n",
    "        elif each_lineage == 'Endo':\n",
    "            \n",
    "            adata = endo_adata.copy()\n",
    "\n",
    "        adata = adata[adata.obs['study_id'] == each_patient]\n",
    "        \n",
    "        if adata.shape[0] > 0:\n",
    "    \n",
    "            adata.obs['leiden'] = adata.obs['leiden'].astype(str)\n",
    "            adata.obs['ccc_anno'] = each_lineage + '(' + adata.obs['leiden'] + ')'\n",
    "\n",
    "            for each_anno in np.unique(adata.obs['ccc_anno']).tolist():\n",
    "\n",
    "                if adata[adata.obs['ccc_anno'] == each_anno].shape[0] < min_cell:\n",
    "\n",
    "                    adata = adata[adata.obs['ccc_anno'] != each_anno]\n",
    "                    \n",
    "            if adata.shape[0] > 0:\n",
    "                \n",
    "                each_cca_anno = pd.concat([each_cca_anno, adata.obs[['ccc_anno']].copy()], axis=0)\n",
    "                     \n",
    "    if each_cca_anno.shape[0] > 0:\n",
    "        \n",
    "        adata = sc.read('/public/home/guogjgroup/ggj/matq_analysis/pan_cancer/all_cell/adata_all_cell_raw_with_anno_latest.h5ad')\n",
    "        adata = adata[each_cca_anno.index.tolist(), :]\n",
    "        adata.obs['ccc_anno'] = each_cca_anno['ccc_anno']        \n",
    "        adata.obs[['lineage', 'Type', 'cnv_cluster_type', 'ccc_anno']].to_csv('original_DGE/' + each_patient + '_DGE_for_CellChat.csv')   \n",
    "        adata.write('original_DGE/' + each_patient + '_DGE_for_CellChat.h5ad')   \n"
   ]
  },
  {
   "cell_type": "code",
   "execution_count": null,
   "id": "0e525b26",
   "metadata": {},
   "outputs": [],
   "source": []
  },
  {
   "cell_type": "code",
   "execution_count": null,
   "id": "5708ad15",
   "metadata": {},
   "outputs": [],
   "source": []
  },
  {
   "cell_type": "code",
   "execution_count": null,
   "id": "da009d87",
   "metadata": {},
   "outputs": [],
   "source": []
  },
  {
   "cell_type": "code",
   "execution_count": null,
   "id": "724d9ff4",
   "metadata": {},
   "outputs": [],
   "source": []
  },
  {
   "cell_type": "markdown",
   "id": "dffec185",
   "metadata": {},
   "source": [
    "# DGE: Gene Name Replacement"
   ]
  },
  {
   "cell_type": "code",
   "execution_count": 109,
   "id": "34e785f8",
   "metadata": {},
   "outputs": [],
   "source": [
    "for each_patient in [\n",
    " 'BRCA_p1',\n",
    " 'BRCA_p2',\n",
    " 'BRCA_p3',\n",
    " 'BRCA_p4',\n",
    " 'COAD_p1',\n",
    " 'COAD_p2',\n",
    " 'ESCA_p1',\n",
    " 'ESCA_p2',\n",
    " 'ESCA_p3',\n",
    " 'HCC_p1',\n",
    " 'HCC_p2',\n",
    " 'HCC_p3',\n",
    " 'HCC_p4',\n",
    " 'HCC_p5',\n",
    " 'ICC_p1',\n",
    " 'ICC_p2',\n",
    " 'ICC_p3',\n",
    " 'ICC_p4',\n",
    " 'LUAD_p1',\n",
    " 'LUAD_p2',\n",
    " 'LUAD_p3',\n",
    " 'LUAD_p4',\n",
    " 'LUAD_p5',\n",
    " 'LUAD_p6',\n",
    " 'LUAD_p7',\n",
    " 'READ_p1',\n",
    " 'STAD_p1']:\n",
    "    \n",
    "    adata = sc.read('original_DGE/' + each_patient + '_DGE_for_CellChat.h5ad')   \n",
    "        \n",
    "    for each_cluster in np.unique(adata.obs['ccc_anno']).tolist():\n",
    "\n",
    "        if adata[adata.obs['ccc_anno'] == each_cluster].shape[0] <= 10:\n",
    "\n",
    "            adata = adata[adata.obs['ccc_anno'] != each_cluster]\n",
    "    \n",
    "    adata_var = pd.DataFrame(adata.var.index).copy()\n",
    "    adata_var.index = adata_var[0]\n",
    "    adata_var['name_replaced'] = adata_var.index\n",
    "    del adata_var[0]\n",
    "\n",
    "    cellchat_gene_name_replaced = pd.read_csv('cellchat_gene_name_replaced.csv', index_col=0)\n",
    "\n",
    "    for i in adata_var.index.tolist():\n",
    "\n",
    "        if i in cellchat_gene_name_replaced['name_in_gtf'].tolist():\n",
    "\n",
    "            adata_var.loc[i, 'name_replaced'] = ''.join(cellchat_gene_name_replaced[cellchat_gene_name_replaced['name_in_gtf'] == i].index.tolist())\n",
    "    \n",
    "    adata = adata[:, adata_var.index.tolist()]\n",
    "    adata.var.index = adata_var['name_replaced'].tolist()\n",
    "    \n",
    "    adata.obs[['lineage', 'Type', 'cnv_cluster_type', 'ccc_anno']].to_csv(each_patient + '_DGE_for_CellChat.csv')   \n",
    "    adata.write(each_patient + '_DGE_for_CellChat.h5ad')   \n",
    "\n"
   ]
  },
  {
   "cell_type": "code",
   "execution_count": null,
   "id": "b751368d",
   "metadata": {},
   "outputs": [],
   "source": []
  },
  {
   "cell_type": "code",
   "execution_count": null,
   "id": "2f1b0c1c",
   "metadata": {},
   "outputs": [],
   "source": []
  },
  {
   "cell_type": "code",
   "execution_count": null,
   "id": "41d1685d",
   "metadata": {},
   "outputs": [],
   "source": []
  },
  {
   "cell_type": "code",
   "execution_count": null,
   "id": "bf6ca186",
   "metadata": {},
   "outputs": [],
   "source": []
  }
 ],
 "metadata": {
  "kernelspec": {
   "display_name": "Python 3 (ipykernel)",
   "language": "python",
   "name": "python3"
  },
  "language_info": {
   "codemirror_mode": {
    "name": "ipython",
    "version": 3
   },
   "file_extension": ".py",
   "mimetype": "text/x-python",
   "name": "python",
   "nbconvert_exporter": "python",
   "pygments_lexer": "ipython3",
   "version": "3.10.6"
  }
 },
 "nbformat": 4,
 "nbformat_minor": 5
}
