{
 "cells": [
  {
   "cell_type": "code",
   "execution_count": 39,
   "id": "8925b40f",
   "metadata": {},
   "outputs": [
    {
     "name": "stderr",
     "output_type": "stream",
     "text": [
      "Error: package or namespace load failed for 'methods' in dyn.load(file, DLLpath = DLLpath, ...):\n",
      " unable to load shared object '/public/home/guogjgroup/ggj/anaconda3/envs/R3.6/lib/R/library/methods/libs/methods.so':\n",
      "  libR.so: cannot open shared object file: No such file or directory\n",
      "During startup - Warning messages:\n",
      "1: package 'methods' was built under R version 3.6.3 \n",
      "2: package \"methods\" in options(\"defaultPackages\") was not found \n",
      "3: package 'datasets' was built under R version 3.6.3 \n",
      "4: package 'grDevices' was built under R version 3.6.3 \n",
      "5: package 'graphics' was built under R version 3.6.3 \n",
      "6: package 'methods' was built under R version 3.6.3 \n",
      "7: Setting LC_CTYPE failed, using \"C\" \n"
     ]
    }
   ],
   "source": [
    "import numpy as np\n",
    "import pandas as pd\n",
    "import scanpy as sc\n",
    "import matplotlib.pyplot as plt\n",
    "import seaborn as sns\n",
    "from scipy import stats\n",
    "import harmonypy\n",
    "import pymn\n",
    "import scrublet as scr\n",
    "import gseapy as gp\n",
    "from gseapy.plot import barplot, dotplot\n",
    "import bottleneck\n",
    "import pyreadr\n",
    "from scipy.io import mmread\n",
    "import scipy\n",
    "from sklearn import preprocessing\n",
    "import random as rd\n",
    "import scib\n",
    "from matplotlib_venn import venn2,venn2_circles,venn3\n",
    "from pyscenic.export import export2loom, add_scenic_metadata\n",
    "from sklearn.decomposition import NMF\n",
    "from sklearn import metrics\n",
    "import palettable\n",
    "from pyscenic.rss import regulon_specificity_scores\n",
    "import matplotlib.image as mpimg\n",
    "import cosg as cosg\n",
    "from pySankey.sankey import sankey\n",
    "\n",
    "import matplotlib as mpl"
   ]
  },
  {
   "cell_type": "code",
   "execution_count": 40,
   "id": "8c24d119",
   "metadata": {},
   "outputs": [
    {
     "name": "stderr",
     "output_type": "stream",
     "text": [
      "/public/home/guogjgroup/ggj/anaconda3/lib/python3.9/site-packages/scanpy/_settings.py:447: DeprecationWarning: `set_matplotlib_formats` is deprecated since IPython 7.23, directly use `matplotlib_inline.backend_inline.set_matplotlib_formats()`\n",
      "  IPython.display.set_matplotlib_formats(*ipython_format)\n"
     ]
    }
   ],
   "source": [
    "sc.set_figure_params(dpi = 200, color_map = 'viridis_r' )\n",
    "sc.settings.verbosity = 2"
   ]
  },
  {
   "cell_type": "code",
   "execution_count": null,
   "id": "ff117d37",
   "metadata": {},
   "outputs": [],
   "source": []
  },
  {
   "cell_type": "code",
   "execution_count": null,
   "id": "bb551052",
   "metadata": {},
   "outputs": [],
   "source": [
    "# https://github.com/aertslab/SCENIC/blob/master/vignettes/SCENIC_Running.Rmd\n",
    "# *Subsampling cells*: When there is a high proportion of low-quality cells, or if the computation time is an issue, it is also possible to infer the regulatory network using a subset of cells (e.g. selecting random or high-quality cells as input to the co-expression analysis). The activity of the regulatory network, *trained* on this subset of cells, can then be evaluated on all the cells in the dataset with AUCell (Step 3).\n",
    "# Note that to avoid loss of resolution, the subset of cells should be representative of the whole dataset (e.g. contain sufficient representation of all the cell types).\n",
    "# Examples of this approach are presented in [*@aibar2017*](http://dx.doi.org/10.1038/nmeth.4463) (i.e. subsampling this mouse brain dataset, and the analysis of 49k cells from mouse retina).\n"
   ]
  },
  {
   "cell_type": "code",
   "execution_count": null,
   "id": "da82a83a",
   "metadata": {},
   "outputs": [],
   "source": []
  },
  {
   "cell_type": "code",
   "execution_count": null,
   "id": "284e82a2",
   "metadata": {},
   "outputs": [],
   "source": []
  },
  {
   "cell_type": "markdown",
   "id": "9f1d1af8",
   "metadata": {},
   "source": [
    "# Subsampling for SCENIC: Epithelium"
   ]
  },
  {
   "cell_type": "code",
   "execution_count": 23,
   "id": "ee76ed4e",
   "metadata": {},
   "outputs": [
    {
     "name": "stderr",
     "output_type": "stream",
     "text": [
      "/public/home/guogjgroup/ggj/.local/lib/python3.9/site-packages/anndata/_core/anndata.py:1785: FutureWarning: X.dtype being converted to np.float32 from float64. In the next version of anndata (0.9) conversion will not be automatic. Pass dtype explicitly to avoid this warning. Pass `AnnData(X, dtype=X.dtype, ...)` to get the future behavour.\n",
      "  [AnnData(sparse.csr_matrix(a.shape), obs=a.obs) for a in all_adatas],\n"
     ]
    },
    {
     "name": "stdout",
     "output_type": "stream",
     "text": [
      "filtered out 5579 genes that are detected in less than 20 cells\n"
     ]
    },
    {
     "name": "stderr",
     "output_type": "stream",
     "text": [
      "/tmp/ipykernel_31033/1447749131.py:65: DtypeWarning: Columns (4) have mixed types. Specify dtype option on import or set low_memory=False.\n",
      "  latest_anno = pd.read_csv('/public/home/guogjgroup/ggj/matq_analysis/pan_cancer/all_cell/hhseq_all_cell_anno_latest.csv', index_col=0)\n"
     ]
    }
   ],
   "source": [
    "# High\n",
    "\n",
    "adata = sc.read('/public/home/guogjgroup/ggj/matq_analysis/pan_cancer/cancer_module/cnv_high_epi_harmony/cnv_high_epi_harmony_anno_latest.h5ad')\n",
    "\n",
    "barcode_list_all = []\n",
    "\n",
    "for each_cancer in np.unique(adata.obs['cancer_type']).tolist():\n",
    "    \n",
    "    adata_subset = adata[adata.obs['cancer_type'] == each_cancer].copy()\n",
    "    \n",
    "    for each_cluster in np.unique(adata_subset.obs['leiden']).tolist():\n",
    "        \n",
    "        if adata_subset[adata_subset.obs['leiden'] == each_cluster].shape[0] > 1000:\n",
    "        \n",
    "            barcode_list = pd.read_csv('/public/home/guogjgroup/ggj/matq_analysis/scripts_share/jikai/hhseq_bam_integration_split/bam_subset/' + each_cancer + '_high_' + str(each_cluster) + '_bam_subset.csv', index_col=0, header=None).index.tolist()\n",
    "        \n",
    "        else: \n",
    "        \n",
    "            barcode_list = adata_subset[adata_subset.obs['leiden'] == each_cluster].obs.index.tolist()\n",
    "            \n",
    "        barcode_list_all.extend(barcode_list)\n",
    "        \n",
    "barcode_list_all = np.unique(barcode_list_all).tolist()\n",
    "\n",
    "adata = adata[barcode_list_all, :]\n",
    "\n",
    "adata_high = adata.copy()\n",
    "\n",
    "# Low\n",
    "\n",
    "adata = sc.read('/public/home/guogjgroup/ggj/matq_analysis/pan_cancer/cnv_high_DEG/cnv_high_differential_gene_expression_raw_all_gene.h5ad')\n",
    "\n",
    "adata = adata[adata.obs['cnv_cluster_type'] == 'low']\n",
    "\n",
    "barcode_list_all = []\n",
    "\n",
    "for each_patient in np.unique(adata.obs['study_id']).tolist():\n",
    "        \n",
    "    if adata[adata.obs['study_id'] == each_patient].shape[0] > 1000:\n",
    "    \n",
    "        barcode_list = pd.read_csv('/public/home/guogjgroup/ggj/matq_analysis/scripts_share/jikai/hhseq_bam_integration_split/bam_subset/' + each_patient + '_low_bam_subset.csv', index_col=0, header=None).index.tolist()\n",
    "            \n",
    "    else: \n",
    "        \n",
    "        barcode_list = adata[adata.obs['study_id'] == each_patient].obs.index.tolist()\n",
    "        \n",
    "    barcode_list_all.extend(barcode_list)\n",
    "\n",
    "barcode_list_all = np.unique(barcode_list_all).tolist()\n",
    "\n",
    "adata = adata[barcode_list_all, :]\n",
    "\n",
    "adata_low = adata.copy()\n",
    "\n",
    "del adata\n",
    "\n",
    "adata = sc.AnnData.concatenate(adata_low, adata_high, join = \"outer\", fill_value = 0, index_unique = None)\n",
    "\n",
    "del adata_high\n",
    "del adata_low\n",
    "\n",
    "sc.pp.calculate_qc_metrics(adata, percent_top=None, log1p=False, inplace=True)\n",
    "sc.pp.filter_genes(adata, min_cells=20)\n",
    "\n",
    "latest_anno = pd.read_csv('/public/home/guogjgroup/ggj/matq_analysis/pan_cancer/all_cell/hhseq_all_cell_anno_latest.csv', index_col=0)\n",
    "latest_anno = latest_anno.loc[adata.obs.index.tolist(), :]\n",
    "\n",
    "adata.obs['Type'] = latest_anno['Type']\n",
    "adata.obs['Celltype'] = latest_anno['Celltype']\n",
    "adata.obs['lineage'] = latest_anno['lineage']\n",
    "\n",
    "adata.write('SCENIC_Epithelium_subset_1/SCENIC_Epithelium_subset_1.h5ad')"
   ]
  },
  {
   "cell_type": "code",
   "execution_count": 30,
   "id": "a5510ef0",
   "metadata": {},
   "outputs": [
    {
     "name": "stderr",
     "output_type": "stream",
     "text": [
      "/public/home/guogjgroup/ggj/.local/lib/python3.9/site-packages/anndata/_core/anndata.py:1785: FutureWarning: X.dtype being converted to np.float32 from float64. In the next version of anndata (0.9) conversion will not be automatic. Pass dtype explicitly to avoid this warning. Pass `AnnData(X, dtype=X.dtype, ...)` to get the future behavour.\n",
      "  [AnnData(sparse.csr_matrix(a.shape), obs=a.obs) for a in all_adatas],\n"
     ]
    },
    {
     "name": "stdout",
     "output_type": "stream",
     "text": [
      "filtered out 5550 genes that are detected in less than 20 cells\n"
     ]
    },
    {
     "name": "stderr",
     "output_type": "stream",
     "text": [
      "/tmp/ipykernel_31033/3257897941.py:69: DtypeWarning: Columns (4) have mixed types. Specify dtype option on import or set low_memory=False.\n",
      "  latest_anno = pd.read_csv('/public/home/guogjgroup/ggj/matq_analysis/pan_cancer/all_cell/hhseq_all_cell_anno_latest.csv', index_col=0)\n"
     ]
    }
   ],
   "source": [
    "# High\n",
    "\n",
    "adata = sc.read('/public/home/guogjgroup/ggj/matq_analysis/pan_cancer/cancer_module/cnv_high_epi_harmony/cnv_high_epi_harmony_anno_latest.h5ad')\n",
    "\n",
    "barcode_list_all = []\n",
    "\n",
    "for each_cancer in np.unique(adata.obs['cancer_type']).tolist():\n",
    "    \n",
    "    adata_subset = adata[adata.obs['cancer_type'] == each_cancer].copy()\n",
    "    \n",
    "    for each_cluster in np.unique(adata_subset.obs['leiden']).tolist():\n",
    "        \n",
    "        if adata_subset[adata_subset.obs['leiden'] == each_cluster].shape[0] > 1000:\n",
    "        \n",
    "            patient_subset = adata_subset[adata_subset.obs['leiden'] == each_cluster].copy()\n",
    "            \n",
    "            barcode_list = sc.pp.subsample(patient_subset, n_obs=1000, copy=True, random_state=10).obs.index.tolist()\n",
    "         \n",
    "        else: \n",
    "        \n",
    "            barcode_list = adata_subset[adata_subset.obs['leiden'] == each_cluster].obs.index.tolist()\n",
    "            \n",
    "        barcode_list_all.extend(barcode_list)\n",
    "        \n",
    "barcode_list_all = np.unique(barcode_list_all).tolist()\n",
    "\n",
    "adata = adata[barcode_list_all, :]\n",
    "\n",
    "adata_high = adata.copy()\n",
    "\n",
    "# Low\n",
    "\n",
    "adata = sc.read('/public/home/guogjgroup/ggj/matq_analysis/pan_cancer/cnv_high_DEG/cnv_high_differential_gene_expression_raw_all_gene.h5ad')\n",
    "\n",
    "adata = adata[adata.obs['cnv_cluster_type'] == 'low']\n",
    "\n",
    "barcode_list_all = []\n",
    "\n",
    "for each_patient in np.unique(adata.obs['study_id']).tolist():\n",
    "        \n",
    "    if adata[adata.obs['study_id'] == each_patient].shape[0] > 1000:\n",
    "    \n",
    "        patient_subset = adata[adata.obs['study_id'] == each_patient].copy()\n",
    "\n",
    "        barcode_list = sc.pp.subsample(patient_subset, n_obs=1000, copy=True, random_state=10).obs.index.tolist()\n",
    "             \n",
    "    else: \n",
    "        \n",
    "        barcode_list = adata[adata.obs['study_id'] == each_patient].obs.index.tolist()\n",
    "        \n",
    "    barcode_list_all.extend(barcode_list)\n",
    "\n",
    "barcode_list_all = np.unique(barcode_list_all).tolist()\n",
    "\n",
    "adata = adata[barcode_list_all, :]\n",
    "\n",
    "adata_low = adata.copy()\n",
    "\n",
    "del adata\n",
    "\n",
    "adata = sc.AnnData.concatenate(adata_low, adata_high, join = \"outer\", fill_value = 0, index_unique = None)\n",
    "\n",
    "del adata_high\n",
    "del adata_low\n",
    "\n",
    "sc.pp.calculate_qc_metrics(adata, percent_top=None, log1p=False, inplace=True)\n",
    "sc.pp.filter_genes(adata, min_cells=20)\n",
    "\n",
    "latest_anno = pd.read_csv('/public/home/guogjgroup/ggj/matq_analysis/pan_cancer/all_cell/hhseq_all_cell_anno_latest.csv', index_col=0)\n",
    "latest_anno = latest_anno.loc[adata.obs.index.tolist(), :]\n",
    "\n",
    "adata.obs['Type'] = latest_anno['Type']\n",
    "adata.obs['Celltype'] = latest_anno['Celltype']\n",
    "adata.obs['lineage'] = latest_anno['lineage']\n",
    "\n",
    "adata.write('SCENIC_Epithelium_subset_2/SCENIC_Epithelium_subset_2.h5ad')"
   ]
  },
  {
   "cell_type": "code",
   "execution_count": 24,
   "id": "9abdb9a1",
   "metadata": {},
   "outputs": [
    {
     "name": "stderr",
     "output_type": "stream",
     "text": [
      "/public/home/guogjgroup/ggj/.local/lib/python3.9/site-packages/anndata/_core/anndata.py:1785: FutureWarning: X.dtype being converted to np.float32 from float64. In the next version of anndata (0.9) conversion will not be automatic. Pass dtype explicitly to avoid this warning. Pass `AnnData(X, dtype=X.dtype, ...)` to get the future behavour.\n",
      "  [AnnData(sparse.csr_matrix(a.shape), obs=a.obs) for a in all_adatas],\n"
     ]
    },
    {
     "name": "stdout",
     "output_type": "stream",
     "text": [
      "filtered out 5540 genes that are detected in less than 20 cells\n"
     ]
    },
    {
     "name": "stderr",
     "output_type": "stream",
     "text": [
      "/tmp/ipykernel_31033/628378602.py:65: DtypeWarning: Columns (4) have mixed types. Specify dtype option on import or set low_memory=False.\n",
      "  latest_anno = pd.read_csv('/public/home/guogjgroup/ggj/matq_analysis/pan_cancer/all_cell/hhseq_all_cell_anno_latest.csv', index_col=0)\n"
     ]
    }
   ],
   "source": [
    "# High\n",
    "\n",
    "adata = sc.read('/public/home/guogjgroup/ggj/matq_analysis/pan_cancer/cancer_module/cnv_high_epi_harmony/cnv_high_epi_harmony_anno_latest.h5ad')\n",
    "\n",
    "barcode_list_all = []\n",
    "\n",
    "for each_cancer in np.unique(adata.obs['cancer_type']).tolist():\n",
    "    \n",
    "    adata_subset = adata[adata.obs['cancer_type'] == each_cancer].copy()\n",
    "    \n",
    "    for each_cluster in np.unique(adata_subset.obs['leiden']).tolist():\n",
    "        \n",
    "        if adata_subset[adata_subset.obs['leiden'] == each_cluster].shape[0] > 1000:\n",
    "        \n",
    "            barcode_list = pd.read_csv('/public/home/guogjgroup/ggj/matq_analysis/scripts_share/jikai/hhseq_bam_integration_split/bam_subset/' + each_cancer + '_high_' + str(each_cluster) + '_bam_subset_3.csv', index_col=0, header=None).index.tolist()\n",
    "        \n",
    "        else: \n",
    "        \n",
    "            barcode_list = adata_subset[adata_subset.obs['leiden'] == each_cluster].obs.index.tolist()\n",
    "            \n",
    "        barcode_list_all.extend(barcode_list)\n",
    "        \n",
    "barcode_list_all = np.unique(barcode_list_all).tolist()\n",
    "\n",
    "adata = adata[barcode_list_all, :]\n",
    "\n",
    "adata_high = adata.copy()\n",
    "\n",
    "# Low\n",
    "\n",
    "adata = sc.read('/public/home/guogjgroup/ggj/matq_analysis/pan_cancer/cnv_high_DEG/cnv_high_differential_gene_expression_raw_all_gene.h5ad')\n",
    "\n",
    "adata = adata[adata.obs['cnv_cluster_type'] == 'low']\n",
    "\n",
    "barcode_list_all = []\n",
    "\n",
    "for each_patient in np.unique(adata.obs['study_id']).tolist():\n",
    "        \n",
    "    if adata[adata.obs['study_id'] == each_patient].shape[0] > 1000:\n",
    "    \n",
    "        barcode_list = pd.read_csv('/public/home/guogjgroup/ggj/matq_analysis/scripts_share/jikai/hhseq_bam_integration_split/bam_subset/' + each_patient + '_low_bam_subset_3.csv', index_col=0, header=None).index.tolist()\n",
    "            \n",
    "    else: \n",
    "        \n",
    "        barcode_list = adata[adata.obs['study_id'] == each_patient].obs.index.tolist()\n",
    "        \n",
    "    barcode_list_all.extend(barcode_list)\n",
    "\n",
    "barcode_list_all = np.unique(barcode_list_all).tolist()\n",
    "\n",
    "adata = adata[barcode_list_all, :]\n",
    "\n",
    "adata_low = adata.copy()\n",
    "\n",
    "del adata\n",
    "\n",
    "adata = sc.AnnData.concatenate(adata_low, adata_high, join = \"outer\", fill_value = 0, index_unique = None)\n",
    "\n",
    "del adata_high\n",
    "del adata_low\n",
    "\n",
    "sc.pp.calculate_qc_metrics(adata, percent_top=None, log1p=False, inplace=True)\n",
    "sc.pp.filter_genes(adata, min_cells=20)\n",
    "\n",
    "latest_anno = pd.read_csv('/public/home/guogjgroup/ggj/matq_analysis/pan_cancer/all_cell/hhseq_all_cell_anno_latest.csv', index_col=0)\n",
    "latest_anno = latest_anno.loc[adata.obs.index.tolist(), :]\n",
    "\n",
    "adata.obs['Type'] = latest_anno['Type']\n",
    "adata.obs['Celltype'] = latest_anno['Celltype']\n",
    "adata.obs['lineage'] = latest_anno['lineage']\n",
    "\n",
    "adata.write('SCENIC_Epithelium_subset_3/SCENIC_Epithelium_subset_3.h5ad')"
   ]
  },
  {
   "cell_type": "code",
   "execution_count": null,
   "id": "d2c748f9",
   "metadata": {},
   "outputs": [],
   "source": []
  },
  {
   "cell_type": "code",
   "execution_count": null,
   "id": "14e81e92",
   "metadata": {},
   "outputs": [],
   "source": []
  },
  {
   "cell_type": "code",
   "execution_count": null,
   "id": "d6afedb7",
   "metadata": {},
   "outputs": [],
   "source": []
  },
  {
   "cell_type": "code",
   "execution_count": null,
   "id": "dd6627b8",
   "metadata": {},
   "outputs": [],
   "source": []
  }
 ],
 "metadata": {
  "kernelspec": {
   "display_name": "Python 3 (ipykernel)",
   "language": "python",
   "name": "python3"
  },
  "language_info": {
   "codemirror_mode": {
    "name": "ipython",
    "version": 3
   },
   "file_extension": ".py",
   "mimetype": "text/x-python",
   "name": "python",
   "nbconvert_exporter": "python",
   "pygments_lexer": "ipython3",
   "version": "3.10.6"
  }
 },
 "nbformat": 4,
 "nbformat_minor": 5
}
