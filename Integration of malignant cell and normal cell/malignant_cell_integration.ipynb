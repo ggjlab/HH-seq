{
 "cells": [
  {
   "cell_type": "code",
   "execution_count": 8,
   "id": "f4cb5f00",
   "metadata": {},
   "outputs": [],
   "source": [
    "import numpy as np\n",
    "import pandas as pd\n",
    "import scanpy as sc\n",
    "import matplotlib.pyplot as plt\n",
    "import seaborn as sns\n",
    "from scipy import stats\n",
    "import harmonypy\n",
    "import pymn\n",
    "import scrublet as scr\n",
    "import gseapy as gp\n",
    "from gseapy.plot import barplot, dotplot\n",
    "import bottleneck\n",
    "import pyreadr\n",
    "from scipy.io import mmread\n",
    "import scipy\n",
    "from sklearn import preprocessing\n",
    "import random as rd\n",
    "import scib\n",
    "from matplotlib_venn import venn2,venn2_circles,venn3\n",
    "from pyscenic.export import export2loom, add_scenic_metadata\n",
    "from sklearn.decomposition import NMF\n",
    "from sklearn import metrics\n",
    "import palettable\n",
    "from pyscenic.rss import regulon_specificity_scores\n",
    "import matplotlib.image as mpimg"
   ]
  },
  {
   "cell_type": "code",
   "execution_count": 9,
   "id": "da8e60f2",
   "metadata": {},
   "outputs": [
    {
     "name": "stderr",
     "output_type": "stream",
     "text": [
      "/public/home/guogjgroup/ggj/anaconda3/lib/python3.9/site-packages/scanpy/_settings.py:447: DeprecationWarning: `set_matplotlib_formats` is deprecated since IPython 7.23, directly use `matplotlib_inline.backend_inline.set_matplotlib_formats()`\n",
      "  IPython.display.set_matplotlib_formats(*ipython_format)\n"
     ]
    }
   ],
   "source": [
    "sc.set_figure_params(dpi = 200, color_map = 'viridis_r' )\n",
    "sc.settings.verbosity = 2"
   ]
  },
  {
   "cell_type": "code",
   "execution_count": 10,
   "id": "57d0eef9",
   "metadata": {},
   "outputs": [],
   "source": [
    "def type_composition(adata_used, clustering_used, type_displayed):\n",
    "    \n",
    "    cluster_stat_all = pd.DataFrame()\n",
    "\n",
    "    for each_tissue in np.unique(adata_used.obs[type_displayed]).tolist():\n",
    "\n",
    "        each_tissue_stat = pd.DataFrame(adata_used[adata_used.obs[type_displayed] == each_tissue].obs[clustering_used].value_counts())\n",
    "        each_tissue_stat.columns = [each_tissue]\n",
    "        cluster_stat_all = pd.concat([each_tissue_stat, cluster_stat_all], axis = 1)\n",
    "\n",
    "    cluster_stat_all = cluster_stat_all.fillna(0)\n",
    "    column_list = cluster_stat_all.columns.tolist()\n",
    "    cluster_stat_all['all_cell'] = cluster_stat_all.sum(axis=1)\n",
    "\n",
    "    for i in column_list:\n",
    "\n",
    "        cluster_stat_all[i] = cluster_stat_all[i]/cluster_stat_all['all_cell']\n",
    "\n",
    "    del cluster_stat_all['all_cell']\n",
    "\n",
    "    cluster_stat_all['cluster'] = cluster_stat_all.index\n",
    "    #cluster_stat_all['cluster'] = cluster_stat_all['cluster'].astype(int)\n",
    "    cluster_stat_all = cluster_stat_all.sort_values('cluster')\n",
    "\n",
    "    del cluster_stat_all['cluster']\n",
    "\n",
    "    with plt.rc_context({\"figure.figsize\": (16, 3), \"figure.dpi\": (200)}):\n",
    "        cluster_stat_all.plot(kind = 'bar', stacked = True)\n",
    "        plt.grid(False)\n",
    "    #        plt.axis('off')\n",
    "        plt.legend(bbox_to_anchor=(1.0, 1.0))"
   ]
  },
  {
   "cell_type": "code",
   "execution_count": null,
   "id": "336aed51",
   "metadata": {},
   "outputs": [],
   "source": []
  },
  {
   "cell_type": "markdown",
   "id": "d8c94bb3",
   "metadata": {},
   "source": [
    "# Harmony"
   ]
  },
  {
   "cell_type": "code",
   "execution_count": 7,
   "id": "8eccf88f",
   "metadata": {
    "scrolled": true
   },
   "outputs": [
    {
     "name": "stdout",
     "output_type": "stream",
     "text": [
      "filtered out 7556 genes that are detected in less than 1 cells\n",
      "filtered out 7866 genes that are detected in less than 1 cells\n",
      "filtered out 5869 genes that are detected in less than 1 cells\n",
      "filtered out 5870 genes that are detected in less than 1 cells\n",
      "filtered out 8284 genes that are detected in less than 1 cells\n",
      "filtered out 5028 genes that are detected in less than 1 cells\n",
      "filtered out 10175 genes that are detected in less than 1 cells\n"
     ]
    },
    {
     "name": "stderr",
     "output_type": "stream",
     "text": [
      "/public/home/guogjgroup/ggj/.local/lib/python3.9/site-packages/anndata/_core/anndata.py:1785: FutureWarning: X.dtype being converted to np.float32 from float64. In the next version of anndata (0.9) conversion will not be automatic. Pass dtype explicitly to avoid this warning. Pass `AnnData(X, dtype=X.dtype, ...)` to get the future behavour.\n",
      "  [AnnData(sparse.csr_matrix(a.shape), obs=a.obs) for a in all_adatas],\n",
      "/public/home/guogjgroup/ggj/.local/lib/python3.9/site-packages/anndata/_core/anndata.py:1785: FutureWarning: X.dtype being converted to np.float32 from float64. In the next version of anndata (0.9) conversion will not be automatic. Pass dtype explicitly to avoid this warning. Pass `AnnData(X, dtype=X.dtype, ...)` to get the future behavour.\n",
      "  [AnnData(sparse.csr_matrix(a.shape), obs=a.obs) for a in all_adatas],\n",
      "/public/home/guogjgroup/ggj/.local/lib/python3.9/site-packages/anndata/_core/anndata.py:1785: FutureWarning: X.dtype being converted to np.float32 from float64. In the next version of anndata (0.9) conversion will not be automatic. Pass dtype explicitly to avoid this warning. Pass `AnnData(X, dtype=X.dtype, ...)` to get the future behavour.\n",
      "  [AnnData(sparse.csr_matrix(a.shape), obs=a.obs) for a in all_adatas],\n",
      "/public/home/guogjgroup/ggj/.local/lib/python3.9/site-packages/anndata/_core/anndata.py:1785: FutureWarning: X.dtype being converted to np.float32 from float64. In the next version of anndata (0.9) conversion will not be automatic. Pass dtype explicitly to avoid this warning. Pass `AnnData(X, dtype=X.dtype, ...)` to get the future behavour.\n",
      "  [AnnData(sparse.csr_matrix(a.shape), obs=a.obs) for a in all_adatas],\n",
      "/public/home/guogjgroup/ggj/.local/lib/python3.9/site-packages/anndata/_core/anndata.py:1785: FutureWarning: X.dtype being converted to np.float32 from float64. In the next version of anndata (0.9) conversion will not be automatic. Pass dtype explicitly to avoid this warning. Pass `AnnData(X, dtype=X.dtype, ...)` to get the future behavour.\n",
      "  [AnnData(sparse.csr_matrix(a.shape), obs=a.obs) for a in all_adatas],\n",
      "/public/home/guogjgroup/ggj/.local/lib/python3.9/site-packages/anndata/_core/anndata.py:1785: FutureWarning: X.dtype being converted to np.float32 from float64. In the next version of anndata (0.9) conversion will not be automatic. Pass dtype explicitly to avoid this warning. Pass `AnnData(X, dtype=X.dtype, ...)` to get the future behavour.\n",
      "  [AnnData(sparse.csr_matrix(a.shape), obs=a.obs) for a in all_adatas],\n",
      "/public/home/guogjgroup/ggj/anaconda3/lib/python3.9/site-packages/scanpy/preprocessing/_normalization.py:155: UserWarning: Revieved a view of an AnnData. Making a copy.\n",
      "  view_to_actual(adata)\n"
     ]
    },
    {
     "name": "stdout",
     "output_type": "stream",
     "text": [
      "normalizing counts per cell\n",
      "    finished (0:00:01)\n",
      "extracting highly variable genes\n",
      "    finished (0:00:22)\n"
     ]
    },
    {
     "name": "stderr",
     "output_type": "stream",
     "text": [
      "/public/home/guogjgroup/ggj/anaconda3/lib/python3.9/site-packages/scanpy/preprocessing/_simple.py:843: UserWarning: Revieved a view of an AnnData. Making a copy.\n",
      "  view_to_actual(adata)\n"
     ]
    },
    {
     "name": "stdout",
     "output_type": "stream",
     "text": [
      "... as `zero_center=True`, sparse input is densified and may lead to large memory consumption\n",
      "computing PCA\n",
      "    on highly variable genes\n",
      "    with n_comps=50\n",
      "    finished (0:00:16)\n"
     ]
    },
    {
     "name": "stderr",
     "output_type": "stream",
     "text": [
      "2023-02-08 16:47:38,560 - harmonypy - INFO - Iteration 1 of 100\n",
      "2023-02-08 16:49:15,943 - harmonypy - INFO - Iteration 2 of 100\n",
      "2023-02-08 16:50:51,897 - harmonypy - INFO - Iteration 3 of 100\n",
      "2023-02-08 16:52:29,286 - harmonypy - INFO - Iteration 4 of 100\n",
      "2023-02-08 16:54:06,053 - harmonypy - INFO - Iteration 5 of 100\n",
      "2023-02-08 16:55:44,945 - harmonypy - INFO - Iteration 6 of 100\n",
      "2023-02-08 16:57:25,556 - harmonypy - INFO - Iteration 7 of 100\n",
      "2023-02-08 16:59:03,171 - harmonypy - INFO - Iteration 8 of 100\n",
      "2023-02-08 17:00:44,506 - harmonypy - INFO - Iteration 9 of 100\n",
      "2023-02-08 17:02:21,562 - harmonypy - INFO - Converged after 9 iterations\n"
     ]
    },
    {
     "name": "stdout",
     "output_type": "stream",
     "text": [
      "computing neighbors\n",
      "    using 'X_pca' with n_pcs = 30\n",
      "    finished (0:00:36)\n",
      "running Leiden clustering\n",
      "    finished (0:03:54)\n",
      "computing UMAP\n",
      "    finished (0:07:46)\n"
     ]
    }
   ],
   "source": [
    "pc_select = 30\n",
    "res = 0.4\n",
    "neighbor_used = 30\n",
    "\n",
    "for i in ['6']:\n",
    "\n",
    "    integration_name = 'all_theta_inner_removal_hvg' + i\n",
    "    \n",
    "    adata = sc.read('/public/home/guogjgroup/ggj/matq_analysis/pan_cancer/cnv_high_DEG/cnv_high_differential_gene_expression_raw_all_gene.h5ad')\n",
    "    adata = adata[adata.obs['cnv_cluster_type'] == 'high']\n",
    "    \n",
    "    patient_list = np.unique(adata.obs['cancer_type']).tolist()\n",
    "\n",
    "    alldata = []\n",
    "\n",
    "    for patient_id in patient_list:\n",
    "\n",
    "        patient_subset = adata[adata.obs['cancer_type'] == patient_id].copy()\n",
    "\n",
    "        sc.pp.calculate_qc_metrics(patient_subset, percent_top=None, log1p=False, inplace=True)\n",
    "        sc.pp.filter_genes(patient_subset, min_cells=1)\n",
    "\n",
    "        alldata.append(patient_subset)\n",
    "\n",
    "    adata_subsample_all = alldata[0].copy()\n",
    "\n",
    "    for other_patient in list(range(1, len(alldata))):\n",
    "\n",
    "        other_adata = alldata[other_patient].copy()\n",
    "        adata_subsample_all_tmp = sc.AnnData.concatenate(adata_subsample_all, other_adata, \n",
    "                                                         join = \"inner\", fill_value = 0, index_unique = None)\n",
    "        adata_subsample_all = adata_subsample_all_tmp.copy()\n",
    "        del adata_subsample_all_tmp\n",
    "\n",
    "    adata = adata_subsample_all.copy()\n",
    "    \n",
    "    logFC_cutoff = 0.25\n",
    "    p_cutoff = 0.05\n",
    "    combined_p_cutoff = 0.05\n",
    "    pct_cutoff = 0.25\n",
    "\n",
    "    all_marker = pd.DataFrame()\n",
    "\n",
    "    for cancer_type in ['BRCA', 'COAD_READ', 'ESCA', 'HCC', 'ICC', 'LUAD', 'STAD']:\n",
    "\n",
    "        each_marker = pd.read_csv('/public/home/guogjgroup/ggj/matq_analysis/pan_cancer/cancer_module/all_cell/conserved_marker/' + cancer_type + '.markers_no_brain.csv', index_col=0)\n",
    "        each_marker['Tissue'] = cancer_type\n",
    "        each_marker = each_marker.sort_values('No_avg_log2FC', ascending=False)\n",
    "\n",
    "        all_marker = pd.concat([all_marker, each_marker], axis=0)\n",
    "\n",
    "    all_marker = all_marker[all_marker['No_avg_log2FC'] > logFC_cutoff]\n",
    "    all_marker = all_marker[all_marker['Yes_avg_log2FC'] > logFC_cutoff]\n",
    "    all_marker = all_marker[all_marker['No_pct.1'] > pct_cutoff]\n",
    "    all_marker = all_marker[all_marker['Yes_pct.1'] > pct_cutoff]\n",
    "    all_marker = all_marker[all_marker['minimump_p_val'] < combined_p_cutoff]\n",
    "    all_marker = all_marker[all_marker['No_p_val_adj'] < p_cutoff]\n",
    "    all_marker = all_marker[all_marker['Yes_p_val_adj'] < p_cutoff]\n",
    "\n",
    "    all_marker_stat = []\n",
    "\n",
    "    for cancer_type in ['BRCA', 'COAD_READ', 'ESCA', 'HCC', 'ICC', 'LUAD', 'STAD']:\n",
    "\n",
    "        each_marker = all_marker[all_marker['Tissue'] == cancer_type].index.tolist()\n",
    "\n",
    "        all_marker_stat.extend(each_marker)\n",
    "\n",
    "    all_marker_stat = np.unique(all_marker_stat).tolist()   \n",
    "\n",
    "    mt_gene = [s for s in all_marker_stat if s.startswith('MT-')]\n",
    "    all_marker_stat = list(set(all_marker_stat).difference(set(mt_gene)))\n",
    "\n",
    "    gene_list = adata.var.index.tolist() \n",
    "\n",
    "    adata = adata[:, list(set(gene_list).difference(set(all_marker_stat)))]\n",
    "    \n",
    "    sc.pp.normalize_total(adata)\n",
    "    sc.pp.log1p(adata)\n",
    "    \n",
    "    sc.pp.highly_variable_genes(adata)\n",
    "    adata = adata[:, adata.var.highly_variable]\n",
    "    \n",
    "    '''\n",
    "    Default: Using normalized DGE as input, then scale and run PCA. \n",
    "             (\"You can al`so run Harmony on a sparse matrix of library size normalized expression counts. \n",
    "             Harmony will scale these counts, run PCA, and finally perform integration.\"\n",
    "             Ref: https://github.com/immunogenomics/harmony)\n",
    "\n",
    "\n",
    "    The size of local neighborhood (in terms of number of neighboring data points) used for manifold approximation. \n",
    "    Larger values result in more global views of the manifold, while smaller values result in more local data being \n",
    "    preserved. In general values should be in the range 2 to 100. If knn is True, number of nearest neighbors to be \n",
    "    searched. If knn is False, a Gaussian kernel width is set to the distance of the n_neighbors neighbor.\n",
    "    '''\n",
    "\n",
    "    #https://github.com/immunogenomics/harmony/issues/123\n",
    "    #https://github.com/immunogenomics/harmony/issues/24\n",
    "    #https://github.com/immunogenomics/harmony/issues/65\n",
    "\n",
    "    sc.pp.scale(adata, max_value=10)\n",
    "\n",
    "    #https://github.com/immunogenomics/harmony/issues/24\n",
    "    sc.tl.pca(adata, svd_solver='arpack')\n",
    "    sc.external.pp.harmony_integrate(adata, ['cancer_type'], basis='X_pca', \n",
    "                                     adjusted_basis='X_pca_harmony', theta=[int(i)], max_iter_harmony=100)\n",
    "    del adata.obsm['X_pca']\n",
    "    adata.obsm['X_pca'] = adata.obsm['X_pca_harmony']\n",
    "\n",
    "    sc.pp.neighbors(adata, n_pcs=pc_select, n_neighbors=neighbor_used)\n",
    "    sc.tl.leiden(adata, resolution=res)\n",
    "    #sc.tl.tsne(adata)\n",
    "    sc.tl.umap(adata)\n",
    "\n",
    "    adata.write('harmony_latest/' + integration_name + '.h5ad')"
   ]
  },
  {
   "cell_type": "code",
   "execution_count": null,
   "id": "f7b0a274",
   "metadata": {},
   "outputs": [],
   "source": []
  },
  {
   "cell_type": "code",
   "execution_count": null,
   "id": "98a81e4b",
   "metadata": {},
   "outputs": [],
   "source": []
  },
  {
   "cell_type": "code",
   "execution_count": null,
   "id": "9f54b8d7",
   "metadata": {},
   "outputs": [],
   "source": []
  },
  {
   "cell_type": "code",
   "execution_count": null,
   "id": "19967292",
   "metadata": {},
   "outputs": [],
   "source": []
  },
  {
   "cell_type": "code",
   "execution_count": null,
   "id": "2caeb4fd",
   "metadata": {},
   "outputs": [],
   "source": []
  },
  {
   "cell_type": "code",
   "execution_count": null,
   "id": "bf111dfd",
   "metadata": {},
   "outputs": [],
   "source": []
  }
 ],
 "metadata": {
  "kernelspec": {
   "display_name": "Python 3 (ipykernel)",
   "language": "python",
   "name": "python3"
  },
  "language_info": {
   "codemirror_mode": {
    "name": "ipython",
    "version": 3
   },
   "file_extension": ".py",
   "mimetype": "text/x-python",
   "name": "python",
   "nbconvert_exporter": "python",
   "pygments_lexer": "ipython3",
   "version": "3.10.6"
  }
 },
 "nbformat": 4,
 "nbformat_minor": 5
}
