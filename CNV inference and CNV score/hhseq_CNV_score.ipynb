{
 "cells": [
  {
   "cell_type": "code",
   "execution_count": 9,
   "id": "299da6f1",
   "metadata": {},
   "outputs": [],
   "source": [
    "import numpy as np\n",
    "import pandas as pd\n",
    "import scanpy as sc\n",
    "import matplotlib.pyplot as plt\n",
    "import seaborn as sns\n",
    "from tqdm import tqdm\n",
    "from pandas.testing import assert_frame_equal\n",
    "#from pysankey2 import Sankey\n",
    "from scipy import stats\n",
    "#from pysankey2.datasets import load_fruits\n",
    "import os"
   ]
  },
  {
   "cell_type": "code",
   "execution_count": 10,
   "id": "467c1e9d",
   "metadata": {},
   "outputs": [],
   "source": [
    "sc.set_figure_params(dpi = 300, color_map = 'viridis_r' )\n",
    "sc.settings.verbosity = 2"
   ]
  },
  {
   "cell_type": "code",
   "execution_count": 11,
   "id": "9b35ee30",
   "metadata": {},
   "outputs": [],
   "source": [
    "#%load_ext rpy2.ipython"
   ]
  },
  {
   "cell_type": "markdown",
   "id": "a1ea9854",
   "metadata": {},
   "source": [
    "# inferCNV Pseudo Neighbor"
   ]
  },
  {
   "cell_type": "code",
   "execution_count": 20,
   "id": "477a4d5a",
   "metadata": {},
   "outputs": [],
   "source": [
    "# Presets\n",
    "\n",
    "patient_id = 'Glioma_p2'\n",
    "\n",
    "# Automatically assign cancer_type\n",
    "\n",
    "if ('HCC' in patient_id) or ('ICC' in patient_id):\n",
    "\n",
    "    cancer_type = 'HCC_ICC'\n",
    "\n",
    "elif ('ESCA' in patient_id):\n",
    "\n",
    "    cancer_type = 'ESCA'\n",
    "\n",
    "elif ('LUAD' in patient_id):\n",
    "\n",
    "    cancer_type = 'LUAD'\n",
    "\n",
    "elif ('COAD' in patient_id) or ('READ' in patient_id):\n",
    "\n",
    "    cancer_type = 'COAD_READ'\n",
    "\n",
    "elif ('BRCA' in patient_id):\n",
    "\n",
    "    cancer_type = 'BRCA'\n",
    "\n",
    "elif ('STAD' in patient_id):\n",
    "\n",
    "    cancer_type = 'STAD'\n",
    "\n",
    "elif ('Glioma' in patient_id):\n",
    "\n",
    "    cancer_type = 'Glioma'\n",
    "\n",
    "\n",
    "#gene_loc = pd.read_csv('/mnt/hdd1/jikai/cnv_test/gene_loc.tsv', sep = '\\t', header=None)"
   ]
  },
  {
   "cell_type": "code",
   "execution_count": 21,
   "id": "9841b09a",
   "metadata": {},
   "outputs": [],
   "source": [
    "# Loading Clone\n",
    "\n",
    "# Loading inferCNV clone\n",
    "infer_cnv_clone = pd.read_csv('/mnt/hdd1/jikai/hhseq_processing_latest/inferCNV_per_cancer_type/' + cancer_type \n",
    "                              + '_all/inferCNV/' + patient_id + \n",
    "                              '_default_test/pyramidinal_101/infercnv_reshape.observation_groupings.txt', sep = ' ')\n",
    "\n",
    "# Loading Numbat Clone\n",
    "#cnv_clone = pd.read_csv('/mnt/hdd1/jikai/numbat/' + patient_id + '/' + patient_id + '_cnv_clone_sorted.csv', \n",
    "#                        index_col = 0)"
   ]
  },
  {
   "cell_type": "code",
   "execution_count": 22,
   "id": "85066bd2",
   "metadata": {},
   "outputs": [],
   "source": [
    "# Loading CNV Score\n",
    "\n",
    "respath = \"/mnt/hdd1/jikai/hhseq_processing_latest/inferCNV_per_cancer_type/\" + cancer_type + \"_all/inferCNV/\" + patient_id + \"_default_test/pyramidinal_101/\"\n",
    "\n",
    "# Loading CNV Score: Raw\n",
    "cnv_score_ob = pd.read_csv(respath + \"infercnv_reshape.observations.txt\",sep=' ')\n",
    "cnv_score_ob = cnv_score_ob.T.copy()\n",
    "\n",
    "# Loading CNV Score: bin\n",
    "#cnv_score_ob_cut = pd.read_csv(respath + 'cnv_score_ob_cut.csv', index_col=0)"
   ]
  },
  {
   "cell_type": "code",
   "execution_count": 23,
   "id": "8250e4c7",
   "metadata": {},
   "outputs": [],
   "source": [
    "# Loading adata\n",
    "adata = sc.read('/mnt/hdd1/jikai/hhseq_processing_latest/annotation_per_patient/' + patient_id + '/' + \n",
    "                patient_id + '_annotation.h5ad')"
   ]
  },
  {
   "cell_type": "code",
   "execution_count": 24,
   "id": "f9f6b101",
   "metadata": {},
   "outputs": [],
   "source": [
    "'''\n",
    "https://scanpy.readthedocs.io/en/stable/generated/scanpy.pp.neighbors.html\n",
    "\n",
    "connectivitiessparse matrix of dtype float32.\n",
    "Weighted adjacency matrix of the neighborhood graph of data points. Weights should be interpreted as connectivities.\n",
    "\n",
    "distancessparse matrix of dtype float32.\n",
    "Instead of decaying weights, this stores distances for each pair of neighbors.\n",
    "'''\n",
    "neighbor_df = adata.obsp['connectivities']\n",
    "neighbor_df = pd.DataFrame(neighbor_df.todense())\n",
    "neighbor_df.index = adata.obs.index.tolist()\n",
    "neighbor_df.columns = adata.obs.index.tolist()"
   ]
  },
  {
   "cell_type": "code",
   "execution_count": 25,
   "id": "7a01a2d3",
   "metadata": {},
   "outputs": [],
   "source": [
    "# LUAD_p4 Only: Remove Mast Cell Cluster\n",
    "#len(infer_cnv_clone.index.tolist())\n",
    "#cell_retain = list(set(infer_cnv_clone.index.tolist()).difference(set(adata[adata.obs['Celltype'] == 'Mast cell'].obs.index.tolist())))\n",
    "#len(cell_retain)\n",
    "\n",
    "#cnv_score_ob = cnv_score_ob.loc[cell_retain, :]\n",
    "#infer_cnv_clone = infer_cnv_clone.loc[cell_retain, :]"
   ]
  },
  {
   "cell_type": "code",
   "execution_count": 26,
   "id": "a230cc78",
   "metadata": {},
   "outputs": [],
   "source": [
    "# Additional Settings\n",
    "n_pseudo_cell = 9\n",
    "cnv_score_used = cnv_score_ob.copy()\n",
    "cnv_clone_used = infer_cnv_clone.copy()\n",
    "clone_column = 'Dendrogram Group'"
   ]
  },
  {
   "cell_type": "code",
   "execution_count": 27,
   "id": "b8ad9670",
   "metadata": {},
   "outputs": [
    {
     "name": "stderr",
     "output_type": "stream",
     "text": [
      "  1%|▎                                       | 97/14951 [00:01<04:11, 59.06it/s]/tmp/ipykernel_462284/216623671.py:17: PerformanceWarning: DataFrame is highly fragmented.  This is usually the result of calling `frame.insert` many times, which has poor performance.  Consider joining all columns at once using pd.concat(axis=1) instead.  To get a de-fragmented frame, use `newframe = frame.copy()`\n",
      "  cnv_score_neighbor_all[each_cell] = cnv_score_subset_neighbor[each_cell]\n",
      "100%|█████████████████████████████████████| 14951/14951 [04:24<00:00, 56.59it/s]\n"
     ]
    }
   ],
   "source": [
    "cnv_score_neighbor_all = pd.DataFrame(index=cnv_score_used.columns.tolist())\n",
    "neighbor_df = neighbor_df.loc[cnv_score_used.index.tolist(), cnv_score_used.index.tolist()]\n",
    "\n",
    "for each_cell in tqdm(cnv_score_used.index.tolist()):\n",
    "    \n",
    "    each_cell_neighbor_subset = neighbor_df[[each_cell]]\n",
    "    each_cell_neighbor_subset = each_cell_neighbor_subset[each_cell_neighbor_subset[each_cell] != 0]\n",
    "    each_cell_neighbor_subset = pd.DataFrame(each_cell_neighbor_subset[each_cell].sort_values(ascending = False))\n",
    "    each_cell_neighbor_subset = each_cell_neighbor_subset[:n_pseudo_cell-1]\n",
    "    \n",
    "    neighbor_cell_list = each_cell_neighbor_subset.index.tolist()\n",
    "    neighbor_cell_list.append(each_cell)\n",
    "    cnv_score_subset = cnv_score_used.loc[neighbor_cell_list, :]\n",
    "    cnv_score_subset_neighbor = pd.DataFrame(cnv_score_subset.mean())\n",
    "    cnv_score_subset_neighbor.columns = [each_cell]\n",
    "    cnv_score_subset_neighbor = cnv_score_subset_neighbor.loc[cnv_score_neighbor_all.index.tolist(), :]\n",
    "    cnv_score_neighbor_all[each_cell] = cnv_score_subset_neighbor[each_cell]\n",
    "    \n",
    "cnv_score_neighbor_all = cnv_score_neighbor_all.T"
   ]
  },
  {
   "cell_type": "markdown",
   "id": "d9961601",
   "metadata": {},
   "source": [
    "# CNV Score (Bin): Each Chr"
   ]
  },
  {
   "cell_type": "code",
   "execution_count": 1,
   "id": "169551b6",
   "metadata": {},
   "outputs": [],
   "source": [
    "#\n",
    "#HCC_p1: 1.15 & bins=[0.85,0.925,0.97,1.03,1.075,1.15], labels=[2,1,0,1,2]\n",
    "#HCC_p2: 1.15 & bins=[0.85,0.925,0.97,1.03,1.075,1.15], labels=[2,1,0,1,2]\n",
    "#HCC_p3: 1.15 & bins=[0.85,0.925,0.97,1.03,1.075,1.15], labels=[2,1,0,1,2]\n",
    "#HCC_p4: 1.15 & bins=[0.85,0.925,0.97,1.03,1.075,1.15], labels=[2,1,0,1,2]\n",
    "#HCC_p5: 1.15 & bins=[0.85,0.925,0.97,1.03,1.075,1.15], labels=[2,1,0,1,2]\n",
    "#ICC_p1: 1.15 & bins=[0.85,0.925,0.97,1.03,1.075,1.15], labels=[2,1,0,1,2]\n",
    "#ICC_p2: 1.15 & bins=[0.85,0.925,0.97,1.03,1.075,1.15], labels=[2,1,0,1,2]\n",
    "#ICC_p3: 1.15 & bins=[0.85,0.925,0.97,1.03,1.075,1.15], labels=[2,1,0,1,2]\n",
    "#ICC_p4: 1.15 & bins=[0.85,0.925,0.97,1.03,1.075,1.15], labels=[2,1,0,1,2]\n",
    "#\n",
    "#COAD_p1: 1.15 & bins=[0.85,0.925,0.97,1.03,1.075,1.15], labels=[2,1,0,1,2]\n",
    "#COAD_p2: 1.15 & bins=[0.85,0.925,0.97,1.03,1.075,1.15], labels=[2,1,0,1,2]\n",
    "#READ_p1: 1.1 & bins=[0.9,0.95,0.98,1.02,1.05,1.1], labels=[2,1,0,1,2]\n",
    "#\n",
    "#ESCA_p1: 1.2 & bins=[0.8,0.9,0.96,1.04,1.1,1.2], labels=[2,1,0,1,2]\n",
    "#ESCA_p2: NAT & No Epi Cluster\n",
    "#ESCA_p3: 1.15 & bins=[0.85,0.925,0.97,1.03,1.075,1.15], labels=[2,1,0,1,2]\n",
    "#\n",
    "#LUAD_p1: 1.1 & bins=[0.9,0.95,0.98,1.02,1.05,1.1], labels=[2,1,0,1,2]\n",
    "#LUAD_p2: 1.1 & bins=[0.9,0.95,0.98,1.02,1.05,1.1], labels=[2,1,0,1,2]\n",
    "#LUAD_p3: 1.15 & bins=[0.85,0.925,0.97,1.03,1.075,1.15], labels=[2,1,0,1,2]\n",
    "#LUAD_p4: 1.1 & bins=[0.9,0.95,0.98,1.02,1.05,1.1], labels=[2,1,0,1,2] (Removing Mast Cell in Observation!!!)\n",
    "#LUAD_p5: 1.15 & bins=[0.85,0.925,0.97,1.03,1.075,1.15], labels=[2,1,0,1,2]\n",
    "#LUAD_p6: 1.15 & bins=[0.85,0.925,0.97,1.03,1.075,1.15], labels=[2,1,0,1,2]\n",
    "#LUAD_p7: 1.15 & bins=[0.85,0.925,0.97,1.03,1.075,1.15], labels=[2,1,0,1,2]\n",
    "#\n",
    "#STAD_p1: 1.15 & bins=[0.85,0.925,0.97,1.03,1.075,1.15], labels=[2,1,0,1,2]\n",
    "#\n",
    "#BRCA_p1: 1.1 & bins=[0.9,0.95,0.98,1.02,1.05,1.1], labels=[2,1,0,1,2]\n",
    "#BRCA_p2: 1.1 & bins=[0.9,0.95,0.98,1.02,1.05,1.1], labels=[2,1,0,1,2]\n",
    "#BRCA_p3: 1.15 & bins=[0.85,0.925,0.97,1.03,1.075,1.15], labels=[2,1,0,1,2]\n",
    "#BRCA_p4: 1.15 & bins=[0.85,0.925,0.97,1.03,1.075,1.15], labels=[2,1,0,1,2]\n",
    "#\n",
    "#Glioma_p1: 1.15 & bins=[0.85,0.925,0.97,1.03,1.075,1.15], labels=[2,1,0,1,2]\n",
    "#Glioma_p2: 1.15 & bins=[0.85,0.925,0.97,1.03,1.075,1.15], labels=[2,1,0,1,2]\n",
    "#Glioma_p3: 1.15 & bins=[0.85,0.925,0.97,1.03,1.075,1.15], labels=[2,1,0,1,2]\n",
    "#Glioma_p4: 1.15 & bins=[0.85,0.925,0.97,1.03,1.075,1.15], labels=[2,1,0,1,2]\n",
    "#Glioma_p5: 1.15 & bins=[0.85,0.925,0.97,1.03,1.075,1.15], labels=[2,1,0,1,2]\n",
    "#\n",
    "#"
   ]
  },
  {
   "cell_type": "code",
   "execution_count": 29,
   "id": "5647e1af",
   "metadata": {
    "scrolled": true
   },
   "outputs": [
    {
     "data": {
      "text/plain": [
       "0    1.120332\n",
       "dtype: float64"
      ]
     },
     "execution_count": 29,
     "metadata": {},
     "output_type": "execute_result"
    }
   ],
   "source": [
    "pd.DataFrame(cnv_score_neighbor_all.max()).max()"
   ]
  },
  {
   "cell_type": "code",
   "execution_count": 30,
   "id": "bba77455",
   "metadata": {},
   "outputs": [
    {
     "data": {
      "text/plain": [
       "0    0.889048\n",
       "dtype: float64"
      ]
     },
     "execution_count": 30,
     "metadata": {},
     "output_type": "execute_result"
    }
   ],
   "source": [
    "pd.DataFrame(cnv_score_neighbor_all.min()).min()"
   ]
  },
  {
   "cell_type": "code",
   "execution_count": 31,
   "id": "fe7649dc",
   "metadata": {},
   "outputs": [
    {
     "name": "stderr",
     "output_type": "stream",
     "text": [
      "100%|███████████████████████████████████████| 8058/8058 [26:50<00:00,  5.00it/s]\n"
     ]
    }
   ],
   "source": [
    "cnv_score_neighbor_cut = cnv_score_neighbor_all.copy()\n",
    "\n",
    "for i in tqdm(range(len(cnv_score_neighbor_cut.columns))):\n",
    "    cnv_score_neighbor_cut[cnv_score_neighbor_cut.columns[i]] = pd.cut(cnv_score_neighbor_cut[cnv_score_neighbor_cut.columns[i]], bins=[0.85,0.925,0.97,1.03,1.075,1.15], labels=[2,1,0,1,2], ordered=False)\n",
    "#    cnv_score_neighbor_cut[cnv_score_neighbor_cut.columns[i]] = pd.cut(cnv_score_neighbor_cut[cnv_score_neighbor_cut.columns[i]], bins=[0.9,0.95,0.98,1.02,1.05,1.1], labels=[2,1,0,1,2], ordered=False)\n",
    "#    cnv_score_neighbor_cut[cnv_score_neighbor_cut.columns[i]] = pd.cut(cnv_score_neighbor_cut[cnv_score_neighbor_cut.columns[i]], bins=[0.8,0.9,0.96,1.04,1.1,1.2], labels=[2,1,0,1,2], ordered=False)\n",
    "#    cnv_score_neighbor_cut[cnv_score_neighbor_cut.columns[i]] = pd.cut(cnv_score_neighbor_cut[cnv_score_neighbor_cut.columns[i]], bins=[0.7,0.85,0.94,1.06,1.15,1.3], labels=[2,1,0,1,2], ordered=False)"
   ]
  },
  {
   "cell_type": "code",
   "execution_count": 1,
   "id": "17fd42c5",
   "metadata": {},
   "outputs": [],
   "source": [
    "cnv_score_neighbor_cut_mean = pd.DataFrame(cnv_score_neighbor_cut.mean(axis = 1))\n",
    "\n",
    "cnv_score_neighbor_cut_mean = cnv_score_neighbor_cut_mean.loc[cnv_clone_used.index.tolist(), :]\n",
    "cnv_score_neighbor_cut_mean['clone'] = cnv_clone_used[clone_column]\n",
    "\n",
    "cnv_score_neighbor_cut_mean['clone'] = cnv_score_neighbor_cut_mean['clone'].astype(str)\n",
    "cnv_score_neighbor_cut_mean.to_csv(patient_id + '_cnv_score_neighbor_cut_mean.csv')\n",
    "\n",
    "#fig, axs = plt.subplots(1, 1, figsize=(12, 12), dpi=300, sharey=True)\n",
    "#sns.boxplot(data=cnv_score_neighbor_cut_mean, x='clone', y=0, fliersize=0)\n",
    "#plt.xlabel('Clone')\n",
    "#plt.ylabel('CNV Score: Mean')\n",
    "#plt.title(patient_id)\n",
    "#plt.savefig(patient_id + '_boxplot.png')\n",
    "#\n",
    "#plt.figure(figsize=(12,6), dpi=300)\n",
    "#sns.histplot(data=cnv_score_neighbor_cut_mean, x=0, hue='clone')\n",
    "#plt.xlabel('CNV Score: Mean')\n",
    "#plt.title(patient_id)\n",
    "#plt.savefig(patient_id + '_histplot.png')"
   ]
  },
  {
   "cell_type": "code",
   "execution_count": null,
   "id": "ee65baa5",
   "metadata": {},
   "outputs": [],
   "source": []
  },
  {
   "cell_type": "code",
   "execution_count": null,
   "id": "4e1c91b7",
   "metadata": {},
   "outputs": [],
   "source": []
  }
 ],
 "metadata": {
  "kernelspec": {
   "display_name": "Python 3 (ipykernel)",
   "language": "python",
   "name": "python3"
  },
  "language_info": {
   "codemirror_mode": {
    "name": "ipython",
    "version": 3
   },
   "file_extension": ".py",
   "mimetype": "text/x-python",
   "name": "python",
   "nbconvert_exporter": "python",
   "pygments_lexer": "ipython3",
   "version": "3.10.6"
  }
 },
 "nbformat": 4,
 "nbformat_minor": 5
}
